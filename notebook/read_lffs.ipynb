{
 "cells": [
  {
   "cell_type": "code",
   "execution_count": null,
   "metadata": {},
   "outputs": [],
   "source": [
    "import sys\n",
    "import os\n",
    "import cv2 as cv\n",
    "import numpy as np\n",
    "import matplotlib.pyplot as plt\n",
    "import io\n",
    "import PIL.Image as Image\n",
    "sys.path.append(os.path.abspath('../src'))\n",
    "from utils.file import list_files, make_dirs, get_file_name\n"
   ]
  },
  {
   "cell_type": "code",
   "execution_count": null,
   "metadata": {},
   "outputs": [],
   "source": [
    "path = r'H:\\Workspace\\KSIP\\02_Database\\00_ORIGINAL\\NIST_SD302\\sd302h\\ebts\\latent\\lffs\\original\\1000\\00002302'\n",
    "list_path ,length = list_files(path) \n",
    "file_path = list_path[0]"
   ]
  },
  {
   "attachments": {},
   "cell_type": "markdown",
   "metadata": {},
   "source": [
    "## Test reading image from .lffs file"
   ]
  },
  {
   "cell_type": "code",
   "execution_count": null,
   "metadata": {},
   "outputs": [],
   "source": [
    "with open(file_path, mode='rb') as file: # b is binary\n",
    "    content = file.read()\n",
    "    content_split = content.split(b'13.999')\n",
    "    content_split = content_split[1][1:].split(b'IEND')\n",
    "    img_byte = content_split[0]\n",
    "    image = Image.open(io.BytesIO(img_byte))\n",
    "    image.save('./original.jpg')"
   ]
  }
 ],
 "metadata": {
  "kernelspec": {
   "display_name": "lfp_enh_py37",
   "language": "python",
   "name": "python3"
  },
  "language_info": {
   "codemirror_mode": {
    "name": "ipython",
    "version": 3
   },
   "file_extension": ".py",
   "mimetype": "text/x-python",
   "name": "python",
   "nbconvert_exporter": "python",
   "pygments_lexer": "ipython3",
   "version": "3.7.15"
  },
  "orig_nbformat": 4,
  "vscode": {
   "interpreter": {
    "hash": "715260160bf413cf54b9c8d0f725bf4b04c9516dd01a152aafc4cbbcade896dc"
   }
  }
 },
 "nbformat": 4,
 "nbformat_minor": 2
}
