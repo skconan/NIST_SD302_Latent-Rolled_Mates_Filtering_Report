{
 "cells": [
  {
   "attachments": {},
   "cell_type": "markdown",
   "metadata": {},
   "source": [
    "# Filtering the rolled (NIST SD302b: devices U and V) and latent (NIST SD302h) mates "
   ]
  },
  {
   "cell_type": "code",
   "execution_count": 12,
   "metadata": {},
   "outputs": [],
   "source": [
    "import os\n",
    "import sys\n",
    "import shutil\n",
    "import pandas as pd\n",
    "\n",
    "sys.path.append(os.path.abspath('../src'))\n",
    "from utils.file import list_files, make_dirs, get_file_name\n"
   ]
  },
  {
   "attachments": {},
   "cell_type": "markdown",
   "metadata": {},
   "source": [
    "## NIST SD302"
   ]
  },
  {
   "cell_type": "code",
   "execution_count": 13,
   "metadata": {},
   "outputs": [],
   "source": [
    "nist_sd302_dir = r\"E:\\KSIP\\NIST_SD302\"\n",
    "\n",
    "csv_path =  os.path.join(nist_sd302_dir ,r'sd302h\\ebts\\latent\\finger_positions.csv')"
   ]
  },
  {
   "cell_type": "code",
   "execution_count": 14,
   "metadata": {},
   "outputs": [],
   "source": [
    "img_roll_u_dir = os.path.join(nist_sd302_dir, r'sd302b\\images\\baseline\\U\\500\\roll\\png')\n",
    "img_roll_v_dir = os.path.join(nist_sd302_dir, r'sd302b\\images\\baseline\\V\\500\\roll\\png')\n",
    "ebts_latent_dir = os.path.join(nist_sd302_dir, r'sd302h\\ebts\\latent')"
   ]
  },
  {
   "cell_type": "markdown",
   "metadata": {},
   "source": [
    "## Read finger_positions.csv"
   ]
  },
  {
   "cell_type": "code",
   "execution_count": 15,
   "metadata": {},
   "outputs": [
    {
     "data": {
      "text/html": [
       "<div>\n",
       "<style scoped>\n",
       "    .dataframe tbody tr th:only-of-type {\n",
       "        vertical-align: middle;\n",
       "    }\n",
       "\n",
       "    .dataframe tbody tr th {\n",
       "        vertical-align: top;\n",
       "    }\n",
       "\n",
       "    .dataframe thead th {\n",
       "        text-align: right;\n",
       "    }\n",
       "</style>\n",
       "<table border=\"1\" class=\"dataframe\">\n",
       "  <thead>\n",
       "    <tr style=\"text-align: right;\">\n",
       "      <th></th>\n",
       "      <th>filename</th>\n",
       "      <th>fgp</th>\n",
       "    </tr>\n",
       "  </thead>\n",
       "  <tbody>\n",
       "    <tr>\n",
       "      <th>0</th>\n",
       "      <td>00002302_1A_R_L01_BP_S04_1000PPI_8BPC_1CH_LP01...</td>\n",
       "      <td>NaN</td>\n",
       "    </tr>\n",
       "    <tr>\n",
       "      <th>1</th>\n",
       "      <td>00002302_1D_L_L01_BP_S04_1000PPI_8BPC_1CH_LP01...</td>\n",
       "      <td>NaN</td>\n",
       "    </tr>\n",
       "    <tr>\n",
       "      <th>2</th>\n",
       "      <td>00002302_1D_L_L01_BP_S04_1000PPI_8BPC_1CH_LP02...</td>\n",
       "      <td>NaN</td>\n",
       "    </tr>\n",
       "    <tr>\n",
       "      <th>3</th>\n",
       "      <td>00002302_1D_R_L01_BP_S04_1000PPI_8BPC_1CH_LP02...</td>\n",
       "      <td>NaN</td>\n",
       "    </tr>\n",
       "    <tr>\n",
       "      <th>4</th>\n",
       "      <td>00002302_1E_L_L01_BP_S04_1000PPI_8BPC_1CH_LP05...</td>\n",
       "      <td>NaN</td>\n",
       "    </tr>\n",
       "  </tbody>\n",
       "</table>\n",
       "</div>"
      ],
      "text/plain": [
       "                                            filename  fgp\n",
       "0  00002302_1A_R_L01_BP_S04_1000PPI_8BPC_1CH_LP01...  NaN\n",
       "1  00002302_1D_L_L01_BP_S04_1000PPI_8BPC_1CH_LP01...  NaN\n",
       "2  00002302_1D_L_L01_BP_S04_1000PPI_8BPC_1CH_LP02...  NaN\n",
       "3  00002302_1D_R_L01_BP_S04_1000PPI_8BPC_1CH_LP02...  NaN\n",
       "4  00002302_1E_L_L01_BP_S04_1000PPI_8BPC_1CH_LP05...  NaN"
      ]
     },
     "metadata": {},
     "output_type": "display_data"
    },
    {
     "data": {
      "text/html": [
       "<div>\n",
       "<style scoped>\n",
       "    .dataframe tbody tr th:only-of-type {\n",
       "        vertical-align: middle;\n",
       "    }\n",
       "\n",
       "    .dataframe tbody tr th {\n",
       "        vertical-align: top;\n",
       "    }\n",
       "\n",
       "    .dataframe thead th {\n",
       "        text-align: right;\n",
       "    }\n",
       "</style>\n",
       "<table border=\"1\" class=\"dataframe\">\n",
       "  <thead>\n",
       "    <tr style=\"text-align: right;\">\n",
       "      <th></th>\n",
       "      <th>filename</th>\n",
       "      <th>fgp</th>\n",
       "    </tr>\n",
       "  </thead>\n",
       "  <tbody>\n",
       "    <tr>\n",
       "      <th>5972</th>\n",
       "      <td>00002645_6C_X_013_BT_D800_1000PPI_8BPC_1CH_LP2...</td>\n",
       "      <td>NaN</td>\n",
       "    </tr>\n",
       "    <tr>\n",
       "      <th>5973</th>\n",
       "      <td>00002645_6C_X_013_BT_D800_1000PPI_8BPC_1CH_LP3...</td>\n",
       "      <td>NaN</td>\n",
       "    </tr>\n",
       "    <tr>\n",
       "      <th>5974</th>\n",
       "      <td>00002645_6C_X_013_BT_D800_1000PPI_8BPC_1CH_LP3...</td>\n",
       "      <td>3.0</td>\n",
       "    </tr>\n",
       "    <tr>\n",
       "      <th>5975</th>\n",
       "      <td>00002645_7C_X_296_CA_D800_1000PPI_8BPC_1CH_LP0...</td>\n",
       "      <td>NaN</td>\n",
       "    </tr>\n",
       "    <tr>\n",
       "      <th>5976</th>\n",
       "      <td>00002645_7C_X_298_CA_D800_1000PPI_8BPC_1CH_LP0...</td>\n",
       "      <td>NaN</td>\n",
       "    </tr>\n",
       "  </tbody>\n",
       "</table>\n",
       "</div>"
      ],
      "text/plain": [
       "                                               filename  fgp\n",
       "5972  00002645_6C_X_013_BT_D800_1000PPI_8BPC_1CH_LP2...  NaN\n",
       "5973  00002645_6C_X_013_BT_D800_1000PPI_8BPC_1CH_LP3...  NaN\n",
       "5974  00002645_6C_X_013_BT_D800_1000PPI_8BPC_1CH_LP3...  3.0\n",
       "5975  00002645_7C_X_296_CA_D800_1000PPI_8BPC_1CH_LP0...  NaN\n",
       "5976  00002645_7C_X_298_CA_D800_1000PPI_8BPC_1CH_LP0...  NaN"
      ]
     },
     "metadata": {},
     "output_type": "display_data"
    },
    {
     "data": {
      "text/plain": [
       "filename    5977\n",
       "fgp         2812\n",
       "dtype: int64"
      ]
     },
     "execution_count": 15,
     "metadata": {},
     "output_type": "execute_result"
    }
   ],
   "source": [
    "data = pd.read_csv(csv_path)\n",
    "display(data.head())\n",
    "display(data.tail())\n",
    "data.count()\n"
   ]
  },
  {
   "cell_type": "code",
   "execution_count": 16,
   "metadata": {},
   "outputs": [
    {
     "data": {
      "text/plain": [
       "count    2812.000000\n",
       "mean        5.301565\n",
       "std         2.824669\n",
       "min         1.000000\n",
       "25%         3.000000\n",
       "50%         6.000000\n",
       "75%         8.000000\n",
       "max        10.000000\n",
       "Name: fgp, dtype: float64"
      ]
     },
     "execution_count": 16,
     "metadata": {},
     "output_type": "execute_result"
    }
   ],
   "source": [
    "data.fgp.describe()"
   ]
  },
  {
   "cell_type": "markdown",
   "metadata": {},
   "source": [
    "## Filter the finger position (fgp) is not Nan"
   ]
  },
  {
   "cell_type": "code",
   "execution_count": 17,
   "metadata": {},
   "outputs": [
    {
     "data": {
      "text/plain": [
       "filename    2812\n",
       "fgp         2812\n",
       "dtype: int64"
      ]
     },
     "metadata": {},
     "output_type": "display_data"
    }
   ],
   "source": [
    "data = data.dropna()\n",
    "display(data.count())"
   ]
  },
  {
   "cell_type": "code",
   "execution_count": 18,
   "metadata": {},
   "outputs": [
    {
     "data": {
      "text/html": [
       "<div>\n",
       "<style scoped>\n",
       "    .dataframe tbody tr th:only-of-type {\n",
       "        vertical-align: middle;\n",
       "    }\n",
       "\n",
       "    .dataframe tbody tr th {\n",
       "        vertical-align: top;\n",
       "    }\n",
       "\n",
       "    .dataframe thead th {\n",
       "        text-align: right;\n",
       "    }\n",
       "</style>\n",
       "<table border=\"1\" class=\"dataframe\">\n",
       "  <thead>\n",
       "    <tr style=\"text-align: right;\">\n",
       "      <th></th>\n",
       "      <th>filename</th>\n",
       "      <th>fgp</th>\n",
       "    </tr>\n",
       "  </thead>\n",
       "  <tbody>\n",
       "    <tr>\n",
       "      <th>7</th>\n",
       "      <td>00002302_1F_L_L01_BP_S04_1000PPI_8BPC_1CH_LP06...</td>\n",
       "      <td>9.0</td>\n",
       "    </tr>\n",
       "    <tr>\n",
       "      <th>8</th>\n",
       "      <td>00002302_1F_L_L01_BP_S04_1000PPI_8BPC_1CH_LP07...</td>\n",
       "      <td>9.0</td>\n",
       "    </tr>\n",
       "    <tr>\n",
       "      <th>10</th>\n",
       "      <td>00002302_1F_L_L01_BP_S04_1000PPI_8BPC_1CH_LP11...</td>\n",
       "      <td>9.0</td>\n",
       "    </tr>\n",
       "    <tr>\n",
       "      <th>25</th>\n",
       "      <td>00002302_1H_R_L01_BP_S04_1000PPI_8BPC_1CH_LP06...</td>\n",
       "      <td>5.0</td>\n",
       "    </tr>\n",
       "    <tr>\n",
       "      <th>29</th>\n",
       "      <td>00002302_2B_X_L01_BP_S04_1000PPI_8BPC_1CH_LP05...</td>\n",
       "      <td>3.0</td>\n",
       "    </tr>\n",
       "  </tbody>\n",
       "</table>\n",
       "</div>"
      ],
      "text/plain": [
       "                                             filename  fgp\n",
       "7   00002302_1F_L_L01_BP_S04_1000PPI_8BPC_1CH_LP06...  9.0\n",
       "8   00002302_1F_L_L01_BP_S04_1000PPI_8BPC_1CH_LP07...  9.0\n",
       "10  00002302_1F_L_L01_BP_S04_1000PPI_8BPC_1CH_LP11...  9.0\n",
       "25  00002302_1H_R_L01_BP_S04_1000PPI_8BPC_1CH_LP06...  5.0\n",
       "29  00002302_2B_X_L01_BP_S04_1000PPI_8BPC_1CH_LP05...  3.0"
      ]
     },
     "metadata": {},
     "output_type": "display_data"
    },
    {
     "data": {
      "text/html": [
       "<div>\n",
       "<style scoped>\n",
       "    .dataframe tbody tr th:only-of-type {\n",
       "        vertical-align: middle;\n",
       "    }\n",
       "\n",
       "    .dataframe tbody tr th {\n",
       "        vertical-align: top;\n",
       "    }\n",
       "\n",
       "    .dataframe thead th {\n",
       "        text-align: right;\n",
       "    }\n",
       "</style>\n",
       "<table border=\"1\" class=\"dataframe\">\n",
       "  <thead>\n",
       "    <tr style=\"text-align: right;\">\n",
       "      <th></th>\n",
       "      <th>filename</th>\n",
       "      <th>fgp</th>\n",
       "    </tr>\n",
       "  </thead>\n",
       "  <tbody>\n",
       "    <tr>\n",
       "      <th>5968</th>\n",
       "      <td>00002645_6C_X_013_BT_D800_1000PPI_8BPC_1CH_LP1...</td>\n",
       "      <td>3.0</td>\n",
       "    </tr>\n",
       "    <tr>\n",
       "      <th>5969</th>\n",
       "      <td>00002645_6C_X_013_BT_D800_1000PPI_8BPC_1CH_LP2...</td>\n",
       "      <td>4.0</td>\n",
       "    </tr>\n",
       "    <tr>\n",
       "      <th>5970</th>\n",
       "      <td>00002645_6C_X_013_BT_D800_1000PPI_8BPC_1CH_LP2...</td>\n",
       "      <td>7.0</td>\n",
       "    </tr>\n",
       "    <tr>\n",
       "      <th>5971</th>\n",
       "      <td>00002645_6C_X_013_BT_D800_1000PPI_8BPC_1CH_LP2...</td>\n",
       "      <td>8.0</td>\n",
       "    </tr>\n",
       "    <tr>\n",
       "      <th>5974</th>\n",
       "      <td>00002645_6C_X_013_BT_D800_1000PPI_8BPC_1CH_LP3...</td>\n",
       "      <td>3.0</td>\n",
       "    </tr>\n",
       "  </tbody>\n",
       "</table>\n",
       "</div>"
      ],
      "text/plain": [
       "                                               filename  fgp\n",
       "5968  00002645_6C_X_013_BT_D800_1000PPI_8BPC_1CH_LP1...  3.0\n",
       "5969  00002645_6C_X_013_BT_D800_1000PPI_8BPC_1CH_LP2...  4.0\n",
       "5970  00002645_6C_X_013_BT_D800_1000PPI_8BPC_1CH_LP2...  7.0\n",
       "5971  00002645_6C_X_013_BT_D800_1000PPI_8BPC_1CH_LP2...  8.0\n",
       "5974  00002645_6C_X_013_BT_D800_1000PPI_8BPC_1CH_LP3...  3.0"
      ]
     },
     "metadata": {},
     "output_type": "display_data"
    }
   ],
   "source": [
    "display(data.head())\n",
    "display(data.tail())"
   ]
  },
  {
   "attachments": {},
   "cell_type": "markdown",
   "metadata": {},
   "source": [
    "## Filter the first impression"
   ]
  },
  {
   "cell_type": "code",
   "execution_count": 19,
   "metadata": {},
   "outputs": [
    {
     "name": "stdout",
     "output_type": "stream",
     "text": [
      "1020\n"
     ]
    }
   ],
   "source": [
    "ct = 0\n",
    "finger_pos = {'lffs_file':[], 'roll_u_file':[], 'roll_v_file':[]}\n",
    "for d in data.iterrows():\n",
    "    d = d[1]\n",
    "    filename = d.filename\n",
    "    filename_split = filename.split(\"_\")\n",
    "    subject = filename_split[0]\n",
    "\n",
    "    # Remove nth impression where n > 1\n",
    "    if '-2' in filename or '-3' in filename or '-4' in filename:\n",
    "        continue\n",
    "    \n",
    "    roll_fname = '%s_x_%02d.png'%(subject,d.fgp)\n",
    "    roll_v_fname = roll_fname.replace('x','V_500_roll')\n",
    "    roll_u_fname = roll_fname.replace('x','U_500_roll')\n",
    "\n",
    "    if roll_u_fname in finger_pos['roll_u_file']:\n",
    "        continue\n",
    "    \n",
    "    finger_pos['lffs_file'].append(filename)\n",
    "    finger_pos['roll_u_file'].append(roll_u_fname)\n",
    "    finger_pos['roll_v_file'].append(roll_v_fname)\n",
    "    ct += 1\n",
    "print(ct)\n",
    "    "
   ]
  },
  {
   "cell_type": "code",
   "execution_count": 20,
   "metadata": {},
   "outputs": [
    {
     "data": {
      "text/html": [
       "<div>\n",
       "<style scoped>\n",
       "    .dataframe tbody tr th:only-of-type {\n",
       "        vertical-align: middle;\n",
       "    }\n",
       "\n",
       "    .dataframe tbody tr th {\n",
       "        vertical-align: top;\n",
       "    }\n",
       "\n",
       "    .dataframe thead th {\n",
       "        text-align: right;\n",
       "    }\n",
       "</style>\n",
       "<table border=\"1\" class=\"dataframe\">\n",
       "  <thead>\n",
       "    <tr style=\"text-align: right;\">\n",
       "      <th></th>\n",
       "      <th>lffs_file</th>\n",
       "      <th>roll_u_file</th>\n",
       "      <th>roll_v_file</th>\n",
       "    </tr>\n",
       "  </thead>\n",
       "  <tbody>\n",
       "    <tr>\n",
       "      <th>0</th>\n",
       "      <td>00002302_1F_L_L01_BP_S04_1000PPI_8BPC_1CH_LP06...</td>\n",
       "      <td>00002302_U_500_roll_09.png</td>\n",
       "      <td>00002302_V_500_roll_09.png</td>\n",
       "    </tr>\n",
       "    <tr>\n",
       "      <th>1</th>\n",
       "      <td>00002302_1H_R_L01_BP_S04_1000PPI_8BPC_1CH_LP06...</td>\n",
       "      <td>00002302_U_500_roll_05.png</td>\n",
       "      <td>00002302_V_500_roll_05.png</td>\n",
       "    </tr>\n",
       "    <tr>\n",
       "      <th>2</th>\n",
       "      <td>00002302_2B_X_L01_BP_S04_1000PPI_8BPC_1CH_LP05...</td>\n",
       "      <td>00002302_U_500_roll_03.png</td>\n",
       "      <td>00002302_V_500_roll_03.png</td>\n",
       "    </tr>\n",
       "    <tr>\n",
       "      <th>3</th>\n",
       "      <td>00002302_6C_X_199_BT_D800_1000PPI_8BPC_1CH_LP1...</td>\n",
       "      <td>00002302_U_500_roll_06.png</td>\n",
       "      <td>00002302_V_500_roll_06.png</td>\n",
       "    </tr>\n",
       "    <tr>\n",
       "      <th>4</th>\n",
       "      <td>00002302_6C_X_200_BT_D800_1000PPI_8BPC_1CH_LP0...</td>\n",
       "      <td>00002302_U_500_roll_02.png</td>\n",
       "      <td>00002302_V_500_roll_02.png</td>\n",
       "    </tr>\n",
       "    <tr>\n",
       "      <th>...</th>\n",
       "      <td>...</td>\n",
       "      <td>...</td>\n",
       "      <td>...</td>\n",
       "    </tr>\n",
       "    <tr>\n",
       "      <th>1015</th>\n",
       "      <td>00002645_1D_R_L01_BP_S22_1000PPI_8BPC_1CH_LP01...</td>\n",
       "      <td>00002645_U_500_roll_01.png</td>\n",
       "      <td>00002645_V_500_roll_01.png</td>\n",
       "    </tr>\n",
       "    <tr>\n",
       "      <th>1016</th>\n",
       "      <td>00002645_1D_R_L01_BP_S22_1000PPI_8BPC_1CH_LP03...</td>\n",
       "      <td>00002645_U_500_roll_03.png</td>\n",
       "      <td>00002645_V_500_roll_03.png</td>\n",
       "    </tr>\n",
       "    <tr>\n",
       "      <th>1017</th>\n",
       "      <td>00002645_1D_R_L01_BP_S22_1000PPI_8BPC_1CH_LP04...</td>\n",
       "      <td>00002645_U_500_roll_04.png</td>\n",
       "      <td>00002645_V_500_roll_04.png</td>\n",
       "    </tr>\n",
       "    <tr>\n",
       "      <th>1018</th>\n",
       "      <td>00002645_1H_L_L01_BP_S22_1000PPI_8BPC_1CH_LP12...</td>\n",
       "      <td>00002645_U_500_roll_07.png</td>\n",
       "      <td>00002645_V_500_roll_07.png</td>\n",
       "    </tr>\n",
       "    <tr>\n",
       "      <th>1019</th>\n",
       "      <td>00002645_2B_X_L01_BP_S22_1000PPI_8BPC_1CH_LP11...</td>\n",
       "      <td>00002645_U_500_roll_06.png</td>\n",
       "      <td>00002645_V_500_roll_06.png</td>\n",
       "    </tr>\n",
       "  </tbody>\n",
       "</table>\n",
       "<p>1020 rows × 3 columns</p>\n",
       "</div>"
      ],
      "text/plain": [
       "                                              lffs_file  \\\n",
       "0     00002302_1F_L_L01_BP_S04_1000PPI_8BPC_1CH_LP06...   \n",
       "1     00002302_1H_R_L01_BP_S04_1000PPI_8BPC_1CH_LP06...   \n",
       "2     00002302_2B_X_L01_BP_S04_1000PPI_8BPC_1CH_LP05...   \n",
       "3     00002302_6C_X_199_BT_D800_1000PPI_8BPC_1CH_LP1...   \n",
       "4     00002302_6C_X_200_BT_D800_1000PPI_8BPC_1CH_LP0...   \n",
       "...                                                 ...   \n",
       "1015  00002645_1D_R_L01_BP_S22_1000PPI_8BPC_1CH_LP01...   \n",
       "1016  00002645_1D_R_L01_BP_S22_1000PPI_8BPC_1CH_LP03...   \n",
       "1017  00002645_1D_R_L01_BP_S22_1000PPI_8BPC_1CH_LP04...   \n",
       "1018  00002645_1H_L_L01_BP_S22_1000PPI_8BPC_1CH_LP12...   \n",
       "1019  00002645_2B_X_L01_BP_S22_1000PPI_8BPC_1CH_LP11...   \n",
       "\n",
       "                     roll_u_file                 roll_v_file  \n",
       "0     00002302_U_500_roll_09.png  00002302_V_500_roll_09.png  \n",
       "1     00002302_U_500_roll_05.png  00002302_V_500_roll_05.png  \n",
       "2     00002302_U_500_roll_03.png  00002302_V_500_roll_03.png  \n",
       "3     00002302_U_500_roll_06.png  00002302_V_500_roll_06.png  \n",
       "4     00002302_U_500_roll_02.png  00002302_V_500_roll_02.png  \n",
       "...                          ...                         ...  \n",
       "1015  00002645_U_500_roll_01.png  00002645_V_500_roll_01.png  \n",
       "1016  00002645_U_500_roll_03.png  00002645_V_500_roll_03.png  \n",
       "1017  00002645_U_500_roll_04.png  00002645_V_500_roll_04.png  \n",
       "1018  00002645_U_500_roll_07.png  00002645_V_500_roll_07.png  \n",
       "1019  00002645_U_500_roll_06.png  00002645_V_500_roll_06.png  \n",
       "\n",
       "[1020 rows x 3 columns]"
      ]
     },
     "execution_count": 20,
     "metadata": {},
     "output_type": "execute_result"
    }
   ],
   "source": [
    "df_finger_pos = pd.DataFrame(finger_pos)\n",
    "df_finger_pos"
   ]
  },
  {
   "attachments": {},
   "cell_type": "markdown",
   "metadata": {},
   "source": [
    "## Filter NIST SD302h (LFFS) files, there are mate in the NIST SD302b (devices: U and V)."
   ]
  },
  {
   "cell_type": "code",
   "execution_count": 21,
   "metadata": {},
   "outputs": [
    {
     "name": "stdout",
     "output_type": "stream",
     "text": [
      "E:\\KSIP\\NIST_SD302\\sd302b\\images\\baseline\\U\\500\\roll\\png\\0000257_U_500_roll_02.png\n",
      "E:\\KSIP\\NIST_SD302\\sd302b\\images\\baseline\\V\\500\\roll\\png\\0000257_V_500_roll_02.png\n",
      "1019\n"
     ]
    }
   ],
   "source": [
    "rm_list = []\n",
    "ct = 0\n",
    "for d in df_finger_pos.iterrows():\n",
    "    d = d[1]\n",
    "    roll_u_fname = d.roll_u_file\n",
    "    roll_v_fname = d.roll_v_file\n",
    "\n",
    "    roll_u_path = os.path.join(img_roll_u_dir, roll_u_fname)\n",
    "    roll_v_path = os.path.join(img_roll_v_dir, roll_v_fname)\n",
    "    \n",
    "    if os.path.exists(roll_u_path) and os.path.exists(roll_v_path):\n",
    "        ct += 1\n",
    "    else:\n",
    "        rm_list.append(roll_u_fname)\n",
    "        print(roll_u_path)\n",
    "        print(roll_v_path)\n",
    "\n",
    "print(ct)\n",
    "\n",
    "for roll_u_fname in rm_list:\n",
    "    df_finger_pos = df_finger_pos.drop(df_finger_pos[df_finger_pos.roll_u_file == roll_u_fname].index)"
   ]
  },
  {
   "cell_type": "code",
   "execution_count": 22,
   "metadata": {},
   "outputs": [
    {
     "data": {
      "text/html": [
       "<div>\n",
       "<style scoped>\n",
       "    .dataframe tbody tr th:only-of-type {\n",
       "        vertical-align: middle;\n",
       "    }\n",
       "\n",
       "    .dataframe tbody tr th {\n",
       "        vertical-align: top;\n",
       "    }\n",
       "\n",
       "    .dataframe thead th {\n",
       "        text-align: right;\n",
       "    }\n",
       "</style>\n",
       "<table border=\"1\" class=\"dataframe\">\n",
       "  <thead>\n",
       "    <tr style=\"text-align: right;\">\n",
       "      <th></th>\n",
       "      <th>lffs_file</th>\n",
       "      <th>roll_u_file</th>\n",
       "      <th>roll_v_file</th>\n",
       "    </tr>\n",
       "  </thead>\n",
       "  <tbody>\n",
       "    <tr>\n",
       "      <th>0</th>\n",
       "      <td>00002302_1F_L_L01_BP_S04_1000PPI_8BPC_1CH_LP06...</td>\n",
       "      <td>00002302_U_500_roll_09.png</td>\n",
       "      <td>00002302_V_500_roll_09.png</td>\n",
       "    </tr>\n",
       "    <tr>\n",
       "      <th>1</th>\n",
       "      <td>00002302_1H_R_L01_BP_S04_1000PPI_8BPC_1CH_LP06...</td>\n",
       "      <td>00002302_U_500_roll_05.png</td>\n",
       "      <td>00002302_V_500_roll_05.png</td>\n",
       "    </tr>\n",
       "    <tr>\n",
       "      <th>2</th>\n",
       "      <td>00002302_2B_X_L01_BP_S04_1000PPI_8BPC_1CH_LP05...</td>\n",
       "      <td>00002302_U_500_roll_03.png</td>\n",
       "      <td>00002302_V_500_roll_03.png</td>\n",
       "    </tr>\n",
       "    <tr>\n",
       "      <th>3</th>\n",
       "      <td>00002302_6C_X_199_BT_D800_1000PPI_8BPC_1CH_LP1...</td>\n",
       "      <td>00002302_U_500_roll_06.png</td>\n",
       "      <td>00002302_V_500_roll_06.png</td>\n",
       "    </tr>\n",
       "    <tr>\n",
       "      <th>4</th>\n",
       "      <td>00002302_6C_X_200_BT_D800_1000PPI_8BPC_1CH_LP0...</td>\n",
       "      <td>00002302_U_500_roll_02.png</td>\n",
       "      <td>00002302_V_500_roll_02.png</td>\n",
       "    </tr>\n",
       "    <tr>\n",
       "      <th>...</th>\n",
       "      <td>...</td>\n",
       "      <td>...</td>\n",
       "      <td>...</td>\n",
       "    </tr>\n",
       "    <tr>\n",
       "      <th>1015</th>\n",
       "      <td>00002645_1D_R_L01_BP_S22_1000PPI_8BPC_1CH_LP01...</td>\n",
       "      <td>00002645_U_500_roll_01.png</td>\n",
       "      <td>00002645_V_500_roll_01.png</td>\n",
       "    </tr>\n",
       "    <tr>\n",
       "      <th>1016</th>\n",
       "      <td>00002645_1D_R_L01_BP_S22_1000PPI_8BPC_1CH_LP03...</td>\n",
       "      <td>00002645_U_500_roll_03.png</td>\n",
       "      <td>00002645_V_500_roll_03.png</td>\n",
       "    </tr>\n",
       "    <tr>\n",
       "      <th>1017</th>\n",
       "      <td>00002645_1D_R_L01_BP_S22_1000PPI_8BPC_1CH_LP04...</td>\n",
       "      <td>00002645_U_500_roll_04.png</td>\n",
       "      <td>00002645_V_500_roll_04.png</td>\n",
       "    </tr>\n",
       "    <tr>\n",
       "      <th>1018</th>\n",
       "      <td>00002645_1H_L_L01_BP_S22_1000PPI_8BPC_1CH_LP12...</td>\n",
       "      <td>00002645_U_500_roll_07.png</td>\n",
       "      <td>00002645_V_500_roll_07.png</td>\n",
       "    </tr>\n",
       "    <tr>\n",
       "      <th>1019</th>\n",
       "      <td>00002645_2B_X_L01_BP_S22_1000PPI_8BPC_1CH_LP11...</td>\n",
       "      <td>00002645_U_500_roll_06.png</td>\n",
       "      <td>00002645_V_500_roll_06.png</td>\n",
       "    </tr>\n",
       "  </tbody>\n",
       "</table>\n",
       "<p>1019 rows × 3 columns</p>\n",
       "</div>"
      ],
      "text/plain": [
       "                                              lffs_file  \\\n",
       "0     00002302_1F_L_L01_BP_S04_1000PPI_8BPC_1CH_LP06...   \n",
       "1     00002302_1H_R_L01_BP_S04_1000PPI_8BPC_1CH_LP06...   \n",
       "2     00002302_2B_X_L01_BP_S04_1000PPI_8BPC_1CH_LP05...   \n",
       "3     00002302_6C_X_199_BT_D800_1000PPI_8BPC_1CH_LP1...   \n",
       "4     00002302_6C_X_200_BT_D800_1000PPI_8BPC_1CH_LP0...   \n",
       "...                                                 ...   \n",
       "1015  00002645_1D_R_L01_BP_S22_1000PPI_8BPC_1CH_LP01...   \n",
       "1016  00002645_1D_R_L01_BP_S22_1000PPI_8BPC_1CH_LP03...   \n",
       "1017  00002645_1D_R_L01_BP_S22_1000PPI_8BPC_1CH_LP04...   \n",
       "1018  00002645_1H_L_L01_BP_S22_1000PPI_8BPC_1CH_LP12...   \n",
       "1019  00002645_2B_X_L01_BP_S22_1000PPI_8BPC_1CH_LP11...   \n",
       "\n",
       "                     roll_u_file                 roll_v_file  \n",
       "0     00002302_U_500_roll_09.png  00002302_V_500_roll_09.png  \n",
       "1     00002302_U_500_roll_05.png  00002302_V_500_roll_05.png  \n",
       "2     00002302_U_500_roll_03.png  00002302_V_500_roll_03.png  \n",
       "3     00002302_U_500_roll_06.png  00002302_V_500_roll_06.png  \n",
       "4     00002302_U_500_roll_02.png  00002302_V_500_roll_02.png  \n",
       "...                          ...                         ...  \n",
       "1015  00002645_U_500_roll_01.png  00002645_V_500_roll_01.png  \n",
       "1016  00002645_U_500_roll_03.png  00002645_V_500_roll_03.png  \n",
       "1017  00002645_U_500_roll_04.png  00002645_V_500_roll_04.png  \n",
       "1018  00002645_U_500_roll_07.png  00002645_V_500_roll_07.png  \n",
       "1019  00002645_U_500_roll_06.png  00002645_V_500_roll_06.png  \n",
       "\n",
       "[1019 rows x 3 columns]"
      ]
     },
     "execution_count": 22,
     "metadata": {},
     "output_type": "execute_result"
    }
   ],
   "source": [
    "df_finger_pos.to_csv('./NIST_SD302h_mate.csv', index=False)\n",
    "df_finger_pos"
   ]
  }
 ],
 "metadata": {
  "kernelspec": {
   "display_name": "torch-1-13",
   "language": "python",
   "name": "python3"
  },
  "language_info": {
   "codemirror_mode": {
    "name": "ipython",
    "version": 3
   },
   "file_extension": ".py",
   "mimetype": "text/x-python",
   "name": "python",
   "nbconvert_exporter": "python",
   "pygments_lexer": "ipython3",
   "version": "3.9.7"
  },
  "orig_nbformat": 4,
  "vscode": {
   "interpreter": {
    "hash": "e772f1295b38b14721dba06702a36707d4e027898f9d3d21c4b1e0832f00d6f9"
   }
  }
 },
 "nbformat": 4,
 "nbformat_minor": 2
}
